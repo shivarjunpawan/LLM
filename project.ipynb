{
 "cells": [
  {
   "cell_type": "markdown",
   "metadata": {},
   "source": [
    "**LLM - Detect AI Generated Text\n",
    "Identify which essay was written by a large language model**\n",
    "\n",
    "Shivarjun Umesha \n",
    "\n",
    "1002059222"
   ]
  },
  {
   "cell_type": "code",
   "execution_count": 275,
   "id": "e8630130",
   "metadata": {},
   "outputs": [],
   "source": [
    "import numpy as np\n",
    "import pandas as pd\n",
    "from sklearn.feature_extraction.text import CountVectorizer\n",
    "from sklearn.model_selection import train_test_split\n",
    "from sklearn.metrics import accuracy_score, classification_report, confusion_matrix\n"
   ]
  },
  {
   "cell_type": "markdown",
   "metadata": {},
   "source": [
    "Dataset"
   ]
  },
  {
   "cell_type": "code",
   "execution_count": 276,
   "metadata": {},
   "outputs": [
    {
     "name": "stdout",
     "output_type": "stream",
     "text": [
      "         id  prompt_id                                               text  \\\n",
      "0  0059830c        0.0  Cars. Cars have been around since they became ...   \n",
      "1  005db917        0.0  Transportation is a large necessity in most co...   \n",
      "2  008f63e3        0.0  \"America's love affair with it's vehicles seem...   \n",
      "3    940276        0.0  How often do you ride in a car? Do you drive a...   \n",
      "4  00c39458        0.0  Cars are a wonderful thing. They are perhaps o...   \n",
      "\n",
      "   generated  \n",
      "0          0  \n",
      "1          0  \n",
      "2          0  \n",
      "3          0  \n",
      "4          0  \n"
     ]
    }
   ],
   "source": [
    "df = pd.read_csv('/Users/shivarjunpawan/Desktop/DM_Assignment2/train_essays.csv', encoding='latin1')\n",
    "print(df.head())"
   ]
  },
  {
   "cell_type": "markdown",
   "metadata": {},
   "source": [
    "Data Preprocessing"
   ]
  },
  {
   "cell_type": "code",
   "execution_count": 277,
   "metadata": {},
   "outputs": [
    {
     "data": {
      "image/png": "[encoded data removed]",
      "text/plain": [
       "<Figure size 500x400 with 1 Axes>"
      ]
     },
     "metadata": {},
     "output_type": "display_data"
    }
   ],
   "source": [
    "import matplotlib.pyplot as plt\n",
    "label_counts = df['generated'].value_counts()\n",
    "plt.figure(figsize=(5, 4))\n",
    "label_counts.plot(kind='bar', color=['blue', 'orange'])\n",
    "plt.title('Distribution of Human or AI-Generated Texts')\n",
    "plt.xlabel('Label')\n",
    "plt.ylabel('Count')\n",
    "plt.xticks(rotation=0)\n",
    "plt.show()\n"
   ]
  },
  {
   "cell_type": "markdown",
   "metadata": {},
   "source": [
    "Droping of attributes 'id' & 'Prompt_id'"
   ]
  },
  {
   "cell_type": "code",
   "execution_count": 278,
   "metadata": {},
   "outputs": [
    {
     "name": "stdout",
     "output_type": "stream",
     "text": [
      "                                                text  generated\n",
      "0  Cars. Cars have been around since they became ...          0\n",
      "1  Transportation is a large necessity in most co...          0\n",
      "2  \"America's love affair with it's vehicles seem...          0\n",
      "3  How often do you ride in a car? Do you drive a...          0\n",
      "4  Cars are a wonderful thing. They are perhaps o...          0\n"
     ]
    }
   ],
   "source": [
    "df.drop(['id', 'prompt_id'], axis=1, inplace=True)\n",
    "print(df.head())"
   ]
  },
  {
   "cell_type": "markdown",
   "metadata": {},
   "source": [
    "Building Vocabulary function"
   ]
  },
  {
   "cell_type": "code",
   "execution_count": 279,
   "metadata": {},
   "outputs": [
    {
     "name": "stdout",
     "output_type": "stream",
     "text": [
      "Build Vocabulary\n"
     ]
    }
   ],
   "source": [
    "from sklearn.feature_extraction.text import CountVectorizer\n",
    "def build_vocabulary(texts):\n",
    "    vectorizer = CountVectorizer()\n",
    "    vectorizer.fit(texts)\n",
    "    vocabulary = vectorizer.get_feature_names()\n",
    "    return vocabulary\n",
    "print(\"Build Vocabulary\")"
   ]
  },
  {
   "cell_type": "markdown",
   "metadata": {},
   "source": [
    "Naive Bayes function"
   ]
  },
  {
   "cell_type": "code",
   "execution_count": 281,
   "metadata": {},
   "outputs": [],
   "source": [
    "def naive_bayes(train_data, target_labels, test_data, smoothing_alpha=1e-10):\n",
    "    vectorizer = CountVectorizer(binary=True)\n",
    "    X_train_vec = vectorizer.fit_transform(train_data)\n",
    "    X_test_vec = vectorizer.transform(test_data)\n",
    "    class_probabilities = {}\n",
    "    feature_probabilities = {}\n",
    "    unique_classes = np.unique(target_labels)\n",
    "    for current_class in unique_classes:\n",
    "        class_probabilities[current_class] = np.sum(target_labels == current_class) / len(target_labels)\n",
    "        feature_probabilities[current_class] = (\n",
    "            X_train_vec[target_labels == current_class].sum(axis=0) + smoothing_alpha\n",
    "        ) / (np.sum(target_labels == current_class) + 2 * smoothing_alpha)\n",
    "    predictions = np.argmax(\n",
    "        [\n",
    "            np.log(class_probabilities[current_class])\n",
    "            + X_test_vec @ np.log(feature_probabilities[current_class].T + 1e-10)\n",
    "            for current_class in unique_classes\n",
    "        ],\n",
    "        axis=0,\n",
    "    )\n",
    "\n",
    "    return predictions\n"
   ]
  },
  {
   "cell_type": "code",
   "execution_count": 282,
   "metadata": {},
   "outputs": [],
   "source": [
    "X = df['text']\n",
    "y = df['generated']"
   ]
  },
  {
   "cell_type": "markdown",
   "metadata": {},
   "source": [
    "Calculate the following probability"
   ]
  },
  {
   "cell_type": "code",
   "execution_count": 283,
   "metadata": {},
   "outputs": [
    {
     "name": "stdout",
     "output_type": "stream",
     "text": [
      "Word: was\n",
      "Probability of occurrence in the entire dataset: 0.6823\n",
      "Conditional probability not calculated for the entire dataset.\n"
     ]
    }
   ],
   "source": [
    "word_of_interest = 'was' \n",
    "probability_word, probability_word_given_class = calculate_probabilities(df, word_of_interest)\n",
    "print(f\"Word: {word_of_interest}\")\n",
    "print(f\"Probability of occurrence in the entire dataset: {probability_word:.4f}\")\n",
    "if probability_word_given_class is not None:\n",
    "    print(f\"Probability of occurrence given the class: {probability_word_given_class:.4f}\")\n",
    "else:\n",
    "    print(\"Conditional probability not calculated for the entire dataset.\")\n"
   ]
  },
  {
   "cell_type": "markdown",
   "metadata": {},
   "source": [
    "Trainig the model "
   ]
  },
  {
   "cell_type": "code",
   "execution_count": 284,
   "metadata": {},
   "outputs": [],
   "source": [
    "X_train, X_test, y_train, y_test = train_test_split(X, y, test_size=0.3, random_state=42)"
   ]
  },
  {
   "cell_type": "code",
   "execution_count": 285,
   "metadata": {},
   "outputs": [],
   "source": [
    "y_pred = naive_bayes(X_train, y_train, X_test)"
   ]
  },
  {
   "cell_type": "markdown",
   "metadata": {},
   "source": [
    "Finding Accuracy and classification report "
   ]
  },
  {
   "cell_type": "code",
   "execution_count": 286,
   "metadata": {},
   "outputs": [
    {
     "name": "stdout",
     "output_type": "stream",
     "text": [
      "Accuracy: 0.9565217391304348\n",
      "Confusion Matrix:\n",
      "[[408   0]\n",
      " [ 19  10]]\n",
      "Classification Report:\n",
      "              precision    recall  f1-score   support\n",
      "\n",
      "           0       0.96      1.00      0.98       408\n",
      "           1       1.00      0.34      0.51        29\n",
      "\n",
      "    accuracy                           0.96       437\n",
      "   macro avg       0.98      0.67      0.75       437\n",
      "weighted avg       0.96      0.96      0.95       437\n",
      "\n"
     ]
    }
   ],
   "source": [
    "accuracy = accuracy_score(y_test, y_pred)\n",
    "conf_matrix = confusion_matrix(y_test, y_pred)\n",
    "classification_rep = classification_report(y_test, y_pred)\n",
    "print(f'Accuracy: {accuracy}')\n",
    "print(f'Confusion Matrix:\\n{conf_matrix}')\n",
    "print(f'Classification Report:\\n{classification_rep}')"
   ]
  },
  {
   "cell_type": "markdown",
   "metadata": {},
   "source": [
    "Submission.csv"
   ]
  },
  {
   "cell_type": "code",
   "execution_count": 292,
   "metadata": {},
   "outputs": [],
   "source": [
    "test_data = pd.read_csv('test_essays.csv')\n",
    "test_data = test_data['text']"
   ]
  },
  {
   "cell_type": "code",
   "execution_count": 293,
   "metadata": {},
   "outputs": [
    {
     "data": {
      "text/plain": [
       "0    Aaa bbb ccc.\n",
       "1    Bbb ccc ddd.\n",
       "2    CCC ddd eee.\n",
       "Name: text, dtype: object"
      ]
     },
     "execution_count": 293,
     "metadata": {},
     "output_type": "execute_result"
    }
   ],
   "source": [
    "test_data"
   ]
  }
 ],
 "metadata": {
  "kernelspec": {
   "display_name": "Python 3 (ipykernel)",
   "language": "python",
   "name": "python3"
  },
  "language_info": {
   "codemirror_mode": {
    "name": "ipython",
    "version": 3
   },
   "file_extension": ".py",
   "mimetype": "text/x-python",
   "name": "python",
   "nbconvert_exporter": "python",
   "pygments_lexer": "ipython3",
   "version": "3.11.3"
  }
 },
 "nbformat": 4,
 "nbformat_minor": 5
}
